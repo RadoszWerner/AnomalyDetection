{
 "cells": [
  {
   "cell_type": "markdown",
   "id": "29458e2e",
   "metadata": {},
   "source": [
    "## Wykrywanie anomalii w rzeczywistych zbiorach \n",
    "\n",
    "    Zadanie wyjaśnimy na podstawie zbioru danych SMTP - zawierającego anomalie (ataki) SMTP.\n",
    "    \n",
    "    Ten zbiór i inne rzeczywiste zbiory danych do wykorzystania w I części laboratorium pobieramy z: \n",
    "    http://odds.cs.stonybrook.edu/\n",
    "    "
   ]
  },
  {
   "cell_type": "markdown",
   "id": "af031760",
   "metadata": {},
   "source": [
    "### SMTP dataset\n",
    "\n",
    "https://web.archive.org/web/20240621223546/http://odds.cs.stonybrook.edu/smtp-kddcup99-dataset/\n",
    "\n",
    "Smtp (KDDCUP99)\t\\\n",
    "points:      95156\t\\\n",
    "dimenstions: 3\t\\\n",
    "outliers:     30 (0.03%)\n",
    "\n",
    "Zbiór zawiera wybrane (zagregowane) cechy połączeń TCP, spośród których 30 (oznaczone jako outliers) to próby ataku, pozostałe - normalny ruch (inliers).\n",
    "\n",
    "Zadanie polega na zbadaniu skuteczności różnych metod wykrywania anomalii do detekcji tych ataków.  \n"
   ]
  },
  {
   "cell_type": "code",
   "execution_count": null,
   "id": "b3235ffa",
   "metadata": {},
   "outputs": [
    {
     "name": "stdout",
     "output_type": "stream",
     "text": [
      "Collecting h5py\n",
      "  Downloading h5py-3.13.0-cp312-cp312-win_amd64.whl.metadata (2.5 kB)\n",
      "Requirement already satisfied: numpy>=1.19.3 in d:\\projects\\analizaanomalii\\venv\\lib\\site-packages (from h5py) (2.1.3)\n",
      "Downloading h5py-3.13.0-cp312-cp312-win_amd64.whl (3.0 MB)\n",
      "   ---------------------------------------- 0.0/3.0 MB ? eta -:--:--\n",
      "   ---------------------------------------- 3.0/3.0 MB 24.7 MB/s eta 0:00:00\n",
      "Installing collected packages: h5py\n",
      "Successfully installed h5py-3.13.0\n",
      "Note: you may need to restart the kernel to use updated packages.\n"
     ]
    }
   ],
   "source": [
    "#%pip install h5py"
   ]
  },
  {
   "cell_type": "code",
   "execution_count": 2,
   "id": "1505a23b",
   "metadata": {},
   "outputs": [
    {
     "name": "stdout",
     "output_type": "stream",
     "text": [
      "<KeysViewHDF5 ['X', 'y']>\n"
     ]
    }
   ],
   "source": [
    "import numpy as np \n",
    "import h5py\n",
    "f = h5py.File('./data/smtp.mat','r')\n",
    "print(f.keys())\n"
   ]
  },
  {
   "cell_type": "code",
   "execution_count": 3,
   "id": "2f40c793",
   "metadata": {},
   "outputs": [],
   "source": [
    "X = np.array(f.get('X')).T\n",
    "y = np.array(f.get('y')).ravel().astype(int)"
   ]
  },
  {
   "cell_type": "code",
   "execution_count": 4,
   "id": "2f22a468",
   "metadata": {
    "scrolled": true
   },
   "outputs": [
    {
     "name": "stdout",
     "output_type": "stream",
     "text": [
      "[[ 0.09531018  7.09597607  5.79636166]\n",
      " [ 0.09531018  7.42601321  5.80844275]\n",
      " [-2.30258509  6.88663378  5.79939564]\n",
      " ...\n",
      " [-2.30258509  6.73471056  5.79939564]\n",
      " [ 0.09531018  6.91879413  5.80844275]\n",
      " [ 0.09531018  6.60272357  5.80242044]]\n",
      "(95156, 3)\n",
      "[0 0 0 ... 0 0 0]\n",
      "(95156,)\n",
      "[[    0     1]\n",
      " [95126    30]]\n"
     ]
    }
   ],
   "source": [
    "# X zawiera obserwacje (wiersze) - cechy połączeń\n",
    "# y - ocznaczenie połączeń jako ruch normalny (inlier) lub atak (outlier)\n",
    "print(X)\n",
    "print(X.shape)\n",
    "print(y)\n",
    "print(y.shape)  # 0 - inlier, 1 - outlier\n",
    "\n",
    "print(np.asarray(np.unique(y, return_counts=True)))"
   ]
  },
  {
   "cell_type": "markdown",
   "id": "807de8ce",
   "metadata": {},
   "source": [
    "### LOF "
   ]
  },
  {
   "cell_type": "code",
   "execution_count": 5,
   "id": "f8f10e28",
   "metadata": {},
   "outputs": [],
   "source": [
    "from sklearn.neighbors import LocalOutlierFactor\n",
    "\n",
    "# model = LocalOutlierFactor(n_neighbors=35, novelty=False, contamination='auto') \n",
    "model = LocalOutlierFactor(n_neighbors=35, novelty=False, contamination=0.001) \n",
    "\n",
    "y_pred = model.fit_predict(X)  # 1 - inlier, -1 - outlier"
   ]
  },
  {
   "cell_type": "code",
   "execution_count": 6,
   "id": "7a8ac911",
   "metadata": {},
   "outputs": [],
   "source": [
    "y_pred[y_pred==1] = 0    # inliers\n",
    "y_pred[y_pred==-1] = 1   # outliers"
   ]
  },
  {
   "cell_type": "code",
   "execution_count": 7,
   "id": "a4595675",
   "metadata": {},
   "outputs": [
    {
     "name": "stdout",
     "output_type": "stream",
     "text": [
      "[[    0     1]\n",
      " [95126    30]]\n",
      "[[    0     1]\n",
      " [95060    96]]\n"
     ]
    }
   ],
   "source": [
    "print(np.array(np.unique(y, return_counts=True)))\n",
    "print(np.array(np.unique(y_pred, return_counts=True)))"
   ]
  },
  {
   "cell_type": "code",
   "execution_count": 8,
   "id": "6aaec4ec",
   "metadata": {},
   "outputs": [
    {
     "data": {
      "text/plain": [
       "array([[95030,    96],\n",
       "       [   30,     0]])"
      ]
     },
     "execution_count": 8,
     "metadata": {},
     "output_type": "execute_result"
    }
   ],
   "source": [
    "from sklearn.metrics import confusion_matrix\n",
    "\n",
    "confusion_matrix(y, y_pred)"
   ]
  },
  {
   "cell_type": "code",
   "execution_count": 9,
   "id": "66651d25",
   "metadata": {},
   "outputs": [
    {
     "data": {
      "image/png": "[encoded data removed]",
      "text/plain": [
       "<Figure size 640x480 with 1 Axes>"
      ]
     },
     "metadata": {},
     "output_type": "display_data"
    }
   ],
   "source": [
    "### plot ROC curve\n",
    "\n",
    "import math\n",
    "import matplotlib.pyplot as plt\n",
    "from sklearn.metrics import RocCurveDisplay\n",
    "\n",
    "model.fit(X)\n",
    "anomaly_score = model.negative_outlier_factor_\n",
    "\n",
    "\n",
    "RocCurveDisplay.from_predictions(\n",
    "    y,\n",
    "    anomaly_score,\n",
    "    name=\"LOF\",\n",
    "    color=\"darkorange\",\n",
    "    pos_label=0\n",
    ")\n",
    "plt.plot([0, 1], [0, 1], \"k--\")\n",
    "plt.axis(\"square\")\n",
    "plt.xlabel(\"False Positive Rate\")\n",
    "plt.ylabel(\"True Positive Rate\")\n",
    "plt.title(\"LOF, Receiver Operating Characteristic\")\n",
    "plt.legend()\n",
    "plt.show()\n"
   ]
  },
  {
   "cell_type": "code",
   "execution_count": 10,
   "id": "d5af2075-f03c-4f04-88f9-b1d52e8845fb",
   "metadata": {},
   "outputs": [
    {
     "data": {
      "image/png": "[encoded data removed]",
      "text/plain": [
       "<Figure size 640x480 with 1 Axes>"
      ]
     },
     "metadata": {},
     "output_type": "display_data"
    }
   ],
   "source": [
    "import pandas as pd\n",
    "import numpy as np\n",
    "import seaborn as sns\n",
    "     \n",
    "of = np.log(-anomaly_score)\n",
    "\n",
    "data = pd.DataFrame({'lof': of,'ood': y})\n",
    "\n",
    "sns.boxplot(x='ood', y='lof', data=data).set(\n",
    "    ylabel='log(LOF)')\n",
    "\n",
    "plt.show()\n"
   ]
  }
 ],
 "metadata": {
  "kernelspec": {
   "display_name": "venv",
   "language": "python",
   "name": "python3"
  },
  "language_info": {
   "codemirror_mode": {
    "name": "ipython",
    "version": 3
   },
   "file_extension": ".py",
   "mimetype": "text/x-python",
   "name": "python",
   "nbconvert_exporter": "python",
   "pygments_lexer": "ipython3",
   "version": "3.12.9"
  }
 },
 "nbformat": 4,
 "nbformat_minor": 5
}
